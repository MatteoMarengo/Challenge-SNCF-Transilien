{
 "cells": [
  {
   "cell_type": "markdown",
   "metadata": {},
   "source": [
    "# <b> Import Libraries </b>"
   ]
  },
  {
   "cell_type": "code",
   "execution_count": 1,
   "metadata": {},
   "outputs": [],
   "source": [
    "import pandas as pd\n",
    "from sklearn.model_selection import train_test_split\n",
    "from sklearn.linear_model import LinearRegression\n",
    "from sklearn.metrics import mean_squared_error\n",
    "import numpy as np\n",
    "import matplotlib.pyplot as plt"
   ]
  },
  {
   "cell_type": "markdown",
   "metadata": {},
   "source": [
    "----\n",
    "----\n",
    "# <b> Load the Data </b>"
   ]
  },
  {
   "cell_type": "code",
   "execution_count": 4,
   "metadata": {},
   "outputs": [],
   "source": [
    "# Load the data\n",
    "x_train = pd.read_csv('../data-challenge/x_train_sncf.csv')\n",
    "x_test = pd.read_csv('../data-challenge/x_test_sncf.csv')\n",
    "y_train = pd.read_csv('../data-challenge/y_train_sncf.csv')"
   ]
  },
  {
   "cell_type": "markdown",
   "metadata": {},
   "source": [
    "----\n",
    "----\n",
    "# <b> Merge the training DF </b>"
   ]
  },
  {
   "cell_type": "code",
   "execution_count": 5,
   "metadata": {},
   "outputs": [
    {
     "data": {
      "text/html": [
       "<div>\n",
       "<style scoped>\n",
       "    .dataframe tbody tr th:only-of-type {\n",
       "        vertical-align: middle;\n",
       "    }\n",
       "\n",
       "    .dataframe tbody tr th {\n",
       "        vertical-align: top;\n",
       "    }\n",
       "\n",
       "    .dataframe thead th {\n",
       "        text-align: right;\n",
       "    }\n",
       "</style>\n",
       "<table border=\"1\" class=\"dataframe\">\n",
       "  <thead>\n",
       "    <tr style=\"text-align: right;\">\n",
       "      <th></th>\n",
       "      <th>date</th>\n",
       "      <th>station</th>\n",
       "      <th>job</th>\n",
       "      <th>ferie</th>\n",
       "      <th>vacances</th>\n",
       "      <th>index</th>\n",
       "    </tr>\n",
       "  </thead>\n",
       "  <tbody>\n",
       "    <tr>\n",
       "      <th>0</th>\n",
       "      <td>2015-01-01</td>\n",
       "      <td>1J7</td>\n",
       "      <td>1</td>\n",
       "      <td>1</td>\n",
       "      <td>1</td>\n",
       "      <td>2015-01-01_1J7</td>\n",
       "    </tr>\n",
       "    <tr>\n",
       "      <th>1</th>\n",
       "      <td>2015-01-01</td>\n",
       "      <td>O2O</td>\n",
       "      <td>1</td>\n",
       "      <td>1</td>\n",
       "      <td>1</td>\n",
       "      <td>2015-01-01_O2O</td>\n",
       "    </tr>\n",
       "    <tr>\n",
       "      <th>2</th>\n",
       "      <td>2015-01-01</td>\n",
       "      <td>8QR</td>\n",
       "      <td>1</td>\n",
       "      <td>1</td>\n",
       "      <td>1</td>\n",
       "      <td>2015-01-01_8QR</td>\n",
       "    </tr>\n",
       "    <tr>\n",
       "      <th>3</th>\n",
       "      <td>2015-01-01</td>\n",
       "      <td>UMC</td>\n",
       "      <td>1</td>\n",
       "      <td>1</td>\n",
       "      <td>1</td>\n",
       "      <td>2015-01-01_UMC</td>\n",
       "    </tr>\n",
       "    <tr>\n",
       "      <th>4</th>\n",
       "      <td>2015-01-01</td>\n",
       "      <td>FK3</td>\n",
       "      <td>1</td>\n",
       "      <td>1</td>\n",
       "      <td>1</td>\n",
       "      <td>2015-01-01_FK3</td>\n",
       "    </tr>\n",
       "  </tbody>\n",
       "</table>\n",
       "</div>"
      ],
      "text/plain": [
       "         date station  job  ferie  vacances           index\n",
       "0  2015-01-01     1J7    1      1         1  2015-01-01_1J7\n",
       "1  2015-01-01     O2O    1      1         1  2015-01-01_O2O\n",
       "2  2015-01-01     8QR    1      1         1  2015-01-01_8QR\n",
       "3  2015-01-01     UMC    1      1         1  2015-01-01_UMC\n",
       "4  2015-01-01     FK3    1      1         1  2015-01-01_FK3"
      ]
     },
     "execution_count": 5,
     "metadata": {},
     "output_type": "execute_result"
    }
   ],
   "source": [
    "x_train['index'] = x_train['date'].str.cat(x_train['station'], sep='_')\n",
    "x_train.head()"
   ]
  },
  {
   "cell_type": "code",
   "execution_count": 6,
   "metadata": {},
   "outputs": [
    {
     "data": {
      "text/html": [
       "<div>\n",
       "<style scoped>\n",
       "    .dataframe tbody tr th:only-of-type {\n",
       "        vertical-align: middle;\n",
       "    }\n",
       "\n",
       "    .dataframe tbody tr th {\n",
       "        vertical-align: top;\n",
       "    }\n",
       "\n",
       "    .dataframe thead th {\n",
       "        text-align: right;\n",
       "    }\n",
       "</style>\n",
       "<table border=\"1\" class=\"dataframe\">\n",
       "  <thead>\n",
       "    <tr style=\"text-align: right;\">\n",
       "      <th></th>\n",
       "      <th>date</th>\n",
       "      <th>station</th>\n",
       "      <th>index</th>\n",
       "      <th>job</th>\n",
       "      <th>ferie</th>\n",
       "      <th>vacances</th>\n",
       "      <th>y</th>\n",
       "    </tr>\n",
       "  </thead>\n",
       "  <tbody>\n",
       "    <tr>\n",
       "      <th>0</th>\n",
       "      <td>2015-01-01</td>\n",
       "      <td>1J7</td>\n",
       "      <td>2015-01-01_1J7</td>\n",
       "      <td>1</td>\n",
       "      <td>1</td>\n",
       "      <td>1</td>\n",
       "      <td>7</td>\n",
       "    </tr>\n",
       "    <tr>\n",
       "      <th>1</th>\n",
       "      <td>2015-01-01</td>\n",
       "      <td>O2O</td>\n",
       "      <td>2015-01-01_O2O</td>\n",
       "      <td>1</td>\n",
       "      <td>1</td>\n",
       "      <td>1</td>\n",
       "      <td>0</td>\n",
       "    </tr>\n",
       "    <tr>\n",
       "      <th>2</th>\n",
       "      <td>2015-01-01</td>\n",
       "      <td>8QR</td>\n",
       "      <td>2015-01-01_8QR</td>\n",
       "      <td>1</td>\n",
       "      <td>1</td>\n",
       "      <td>1</td>\n",
       "      <td>9</td>\n",
       "    </tr>\n",
       "    <tr>\n",
       "      <th>3</th>\n",
       "      <td>2015-01-01</td>\n",
       "      <td>UMC</td>\n",
       "      <td>2015-01-01_UMC</td>\n",
       "      <td>1</td>\n",
       "      <td>1</td>\n",
       "      <td>1</td>\n",
       "      <td>9</td>\n",
       "    </tr>\n",
       "    <tr>\n",
       "      <th>4</th>\n",
       "      <td>2015-01-01</td>\n",
       "      <td>FK3</td>\n",
       "      <td>2015-01-01_FK3</td>\n",
       "      <td>1</td>\n",
       "      <td>1</td>\n",
       "      <td>1</td>\n",
       "      <td>28</td>\n",
       "    </tr>\n",
       "  </tbody>\n",
       "</table>\n",
       "</div>"
      ],
      "text/plain": [
       "         date station           index  job  ferie  vacances   y\n",
       "0  2015-01-01     1J7  2015-01-01_1J7    1      1         1   7\n",
       "1  2015-01-01     O2O  2015-01-01_O2O    1      1         1   0\n",
       "2  2015-01-01     8QR  2015-01-01_8QR    1      1         1   9\n",
       "3  2015-01-01     UMC  2015-01-01_UMC    1      1         1   9\n",
       "4  2015-01-01     FK3  2015-01-01_FK3    1      1         1  28"
      ]
     },
     "execution_count": 6,
     "metadata": {},
     "output_type": "execute_result"
    }
   ],
   "source": [
    "data = pd.merge(x_train, y_train, on='index')\n",
    "data = data[['date', 'station', 'index', 'job', 'ferie', 'vacances', 'y']] # reorered columns\n",
    "data.head()"
   ]
  },
  {
   "cell_type": "markdown",
   "metadata": {},
   "source": [
    "----\n",
    "----\n",
    "# <b> Data exploration </b>"
   ]
  },
  {
   "cell_type": "markdown",
   "metadata": {},
   "source": [
    "## Get the number of stations in the dataset"
   ]
  },
  {
   "cell_type": "code",
   "execution_count": 7,
   "metadata": {},
   "outputs": [
    {
     "name": "stdout",
     "output_type": "stream",
     "text": [
      "439\n"
     ]
    }
   ],
   "source": [
    "y_array = data.groupby('station')['y'].apply(np.array).to_dict()\n",
    "print(len(y_array))"
   ]
  },
  {
   "cell_type": "markdown",
   "metadata": {},
   "source": [
    "## Example of a time series over a period of time for a certain station 'O2O'"
   ]
  },
  {
   "cell_type": "code",
   "execution_count": 8,
   "metadata": {},
   "outputs": [
    {
     "data": {
      "text/plain": [
       "[<matplotlib.lines.Line2D at 0x7fd03447a680>]"
      ]
     },
     "execution_count": 8,
     "metadata": {},
     "output_type": "execute_result"
    },
    {
     "data": {
      "image/png": "[encoded data removed]",
      "text/plain": [
       "<Figure size 432x288 with 1 Axes>"
      ]
     },
     "metadata": {
      "needs_background": "light"
     },
     "output_type": "display_data"
    }
   ],
   "source": [
    "y_array['O2O']\n",
    "plt.plot(y_array['O2O'][730:1065])"
   ]
  },
  {
   "cell_type": "markdown",
   "metadata": {},
   "source": [
    "----\n",
    "----\n",
    "# <b> Define X_train and Y_train to train a model </b>"
   ]
  },
  {
   "cell_type": "code",
   "execution_count": 9,
   "metadata": {},
   "outputs": [
    {
     "name": "stdout",
     "output_type": "stream",
     "text": [
      "        date station           index  job  ferie  vacances   y  day_of_week  \\\n",
      "0 2015-01-01     1J7  2015-01-01_1J7    1      1         1   7            4   \n",
      "1 2015-01-01     O2O  2015-01-01_O2O    1      1         1   0            4   \n",
      "2 2015-01-01     8QR  2015-01-01_8QR    1      1         1   9            4   \n",
      "3 2015-01-01     UMC  2015-01-01_UMC    1      1         1   9            4   \n",
      "4 2015-01-01     FK3  2015-01-01_FK3    1      1         1  28            4   \n",
      "\n",
      "   day_of_week_cos  day_of_week_sin  day_of_year  station_id  \n",
      "0        -0.900969         0.433884            1           0  \n",
      "1        -0.900969         0.433884            1           1  \n",
      "2        -0.900969         0.433884            1           2  \n",
      "3        -0.900969         0.433884            1           3  \n",
      "4        -0.900969         0.433884            1           4  \n"
     ]
    }
   ],
   "source": [
    "data['date'] = pd.to_datetime(data['date'])\n",
    "data['day_of_week'] = data['date'].dt.dayofweek + 1\n",
    "data['day_of_week_cos'] = np.cos(2 * np.pi * (data['day_of_week'] - 1) / 7)\n",
    "data['day_of_week_sin'] = np.sin(2 * np.pi * (data['day_of_week'] - 1) / 7)\n",
    "\n",
    "data['day_of_year'] = data['date'].dt.dayofyear\n",
    "\n",
    "X_station = data['station']\n",
    "station_mapping = {station: i for i, station in enumerate(X_station.unique())}\n",
    "data['station_id'] = data['station'].map(station_mapping)\n",
    "\n",
    "print(data.head())"
   ]
  },
  {
   "cell_type": "code",
   "execution_count": 10,
   "metadata": {},
   "outputs": [
    {
     "name": "stderr",
     "output_type": "stream",
     "text": [
      "/tmp/ipykernel_38286/656561680.py:8: UserWarning: Boolean Series key will be reindexed to match DataFrame index.\n",
      "  X_train_station = X_train[data['station'] == station_name]\n"
     ]
    }
   ],
   "source": [
    "# Define the X_train and Y_train\n",
    "X_train = data[['job', 'ferie', 'vacances', 'day_of_week']]\n",
    "y_train = data['y']\n",
    "X_train, X_val, y_train, y_val = train_test_split(X_train, y_train, test_size=0.2, random_state=42)\n",
    "\n",
    "station_name = 'O2O'  # Replace 'O2O' with the desired station name\n",
    "\n",
    "X_train_station = X_train[data['station'] == station_name]\n",
    "y_train_station = y_train[data['station'] == station_name]\n",
    "X_train, X_val, y_train, y_val = train_test_split(X_train_station, y_train_station, test_size=0.2, random_state=42)\n"
   ]
  },
  {
   "cell_type": "markdown",
   "metadata": {},
   "source": [
    "----\n",
    "----\n",
    "# <b> Do the training </b>"
   ]
  },
  {
   "cell_type": "code",
   "execution_count": 11,
   "metadata": {},
   "outputs": [],
   "source": [
    "def mean_absolute_percentage_error(y_true, y_pred, eps=1e-2):\n",
    "    return np.mean(np.abs((y_true+eps - y_pred+eps) / (y_true+eps))) * 100"
   ]
  },
  {
   "cell_type": "code",
   "execution_count": 12,
   "metadata": {},
   "outputs": [
    {
     "name": "stdout",
     "output_type": "stream",
     "text": [
      "MAPE: 6804.68%\n"
     ]
    }
   ],
   "source": [
    "from sklearn.ensemble import RandomForestRegressor\n",
    "\n",
    "model = RandomForestRegressor(n_estimators=500, random_state=42)\n",
    "\n",
    "model.fit(X_train, y_train)\n",
    "\n",
    "y_pred = model.predict(X_val)\n",
    "\n",
    "MAPE = mean_absolute_percentage_error(y_val, y_pred)\n",
    "print(f\"MAPE: {MAPE:.2f}%\")"
   ]
  },
  {
   "cell_type": "markdown",
   "metadata": {},
   "source": [
    "----\n",
    "----\n",
    "# <b> Define XTEST </b>"
   ]
  },
  {
   "cell_type": "code",
   "execution_count": 11,
   "metadata": {},
   "outputs": [
    {
     "name": "stdout",
     "output_type": "stream",
     "text": [
      "            index       date station  job  ferie  vacances  day_of_week\n",
      "0  2023-01-01_1J7 2023-01-01     1J7    0      1         1            7\n",
      "1  2023-01-01_O2O 2023-01-01     O2O    0      1         1            7\n",
      "2  2023-01-01_8QR 2023-01-01     8QR    0      1         1            7\n",
      "3  2023-01-01_L58 2023-01-01     L58    0      1         1            7\n",
      "4  2023-01-01_UMC 2023-01-01     UMC    0      1         1            7\n"
     ]
    }
   ],
   "source": [
    "x_test['date'] = pd.to_datetime(x_test['date'])\n",
    "x_test['day_of_week'] = x_test['date'].dt.dayofweek + 1\n",
    "print(x_test.head())\n",
    "x_test['day_of_week_cos'] = np.cos(2 * np.pi * (x_test['day_of_week'] - 1) / 7)\n",
    "x_test['day_of_week_sin'] = np.sin(2 * np.pi * (x_test['day_of_week'] - 1) / 7)\n",
    "X_test = x_test[['job', 'ferie', 'vacances', 'day_of_week_cos', 'day_of_week_sin']]"
   ]
  },
  {
   "cell_type": "markdown",
   "metadata": {},
   "source": [
    "----\n",
    "----\n",
    "# <b> Training and Testing for all the stations </b>"
   ]
  },
  {
   "cell_type": "code",
   "execution_count": 12,
   "metadata": {},
   "outputs": [],
   "source": [
    "X_train = data[['job', 'ferie', 'vacances', 'day_of_week_cos', 'day_of_week_sin']]\n",
    "y_train = data['y']"
   ]
  },
  {
   "cell_type": "code",
   "execution_count": 13,
   "metadata": {},
   "outputs": [
    {
     "name": "stdout",
     "output_type": "stream",
     "text": [
      "            index  y\n",
      "0  2023-01-01_1J7  0\n",
      "1  2023-01-01_O2O  0\n",
      "2  2023-01-01_8QR  0\n",
      "3  2023-01-01_L58  0\n",
      "4  2023-01-01_UMC  0\n"
     ]
    }
   ],
   "source": [
    "# Create an empty y_test dataframe\n",
    "y_test = pd.DataFrame()\n",
    "# Convert 'date' column to string type\n",
    "x_test['date'] = x_test['date'].astype(str)\n",
    "# First column name is 'index'\n",
    "y_test['index'] = x_test['date'].str.cat(x_test['station'], sep='_')\n",
    "# Second column name is 'y'\n",
    "y_test['y'] = 0\n",
    "\n",
    "print(y_test.head())"
   ]
  },
  {
   "cell_type": "code",
   "execution_count": 23,
   "metadata": {},
   "outputs": [
    {
     "name": "stderr",
     "output_type": "stream",
     "text": [
      "C:\\Users\\matte\\AppData\\Local\\Temp\\ipykernel_21064\\2010181787.py:3: SettingWithCopyWarning: \n",
      "A value is trying to be set on a copy of a slice from a DataFrame.\n",
      "Try using .loc[row_indexer,col_indexer] = value instead\n",
      "\n",
      "See the caveats in the documentation: https://pandas.pydata.org/pandas-docs/stable/user_guide/indexing.html#returning-a-view-versus-a-copy\n",
      "  X_train['date'] = pd.to_datetime(X_train['date'])\n"
     ]
    },
    {
     "name": "stdout",
     "output_type": "stream",
     "text": [
      "*** Feature extraction started ***\n"
     ]
    },
    {
     "data": {
      "text/html": [
       "\n",
       "              <p>\n",
       "                  Progress: 0% Complete\n",
       "              <p/>\n",
       "              <progress\n",
       "                  value='0'\n",
       "                  max='49193',\n",
       "                  style='width: 25%',\n",
       "              >\n",
       "                  0\n",
       "              </progress>\n",
       "\n",
       "    "
      ],
      "text/plain": [
       "<IPython.core.display.HTML object>"
      ]
     },
     "metadata": {},
     "output_type": "display_data"
    },
    {
     "ename": "TypeError",
     "evalue": "float() argument must be a string or a real number, not 'Timestamp'",
     "output_type": "error",
     "traceback": [
      "\u001b[1;31m---------------------------------------------------------------------------\u001b[0m",
      "\u001b[1;31mRemoteTraceback\u001b[0m                           Traceback (most recent call last)",
      "\u001b[1;31mRemoteTraceback\u001b[0m: \n\"\"\"\nTraceback (most recent call last):\n  File \"c:\\Users\\matte\\AppData\\Local\\Programs\\Python\\Python311\\Lib\\multiprocessing\\pool.py\", line 125, in worker\n    result = (True, func(*args, **kwds))\n                    ^^^^^^^^^^^^^^^^^^^\n  File \"c:\\Users\\matte\\AppData\\Local\\Programs\\Python\\Python311\\Lib\\site-packages\\tsfel\\feature_extraction\\calc_features.py\", line 188, in calc_features\n    feat_val = calc_window_features(dict_features, wind_sig, fs, features_path=features_path, header_names=names)\n               ^^^^^^^^^^^^^^^^^^^^^^^^^^^^^^^^^^^^^^^^^^^^^^^^^^^^^^^^^^^^^^^^^^^^^^^^^^^^^^^^^^^^^^^^^^^^^^^^^^\n  File \"c:\\Users\\matte\\AppData\\Local\\Programs\\Python\\Python311\\Lib\\site-packages\\tsfel\\feature_extraction\\calc_features.py\", line 386, in calc_window_features\n    signal_window = np.array(signal_window).astype(float)\n                    ^^^^^^^^^^^^^^^^^^^^^^^^^^^^^^^^^^^^^\nTypeError: float() argument must be a string or a real number, not 'Timestamp'\n\"\"\"",
      "\nThe above exception was the direct cause of the following exception:\n",
      "\u001b[1;31mTypeError\u001b[0m                                 Traceback (most recent call last)",
      "Cell \u001b[1;32mIn[23], line 8\u001b[0m\n\u001b[0;32m      4\u001b[0m \u001b[38;5;28;01mimport\u001b[39;00m \u001b[38;5;21;01mtsfel\u001b[39;00m\n\u001b[0;32m      6\u001b[0m cfg \u001b[38;5;241m=\u001b[39m tsfel\u001b[38;5;241m.\u001b[39mget_features_by_domain()\n\u001b[1;32m----> 8\u001b[0m X_train \u001b[38;5;241m=\u001b[39m \u001b[43mtsfel\u001b[49m\u001b[38;5;241;43m.\u001b[39;49m\u001b[43mtime_series_features_extractor\u001b[49m\u001b[43m(\u001b[49m\u001b[43mcfg\u001b[49m\u001b[43m,\u001b[49m\u001b[43m \u001b[49m\u001b[43mX_train\u001b[49m\u001b[43m,\u001b[49m\u001b[43m \u001b[49m\u001b[43mfs\u001b[49m\u001b[38;5;241;43m=\u001b[39;49m\u001b[38;5;241;43m1.0\u001b[39;49m\u001b[43m,\u001b[49m\u001b[43m \u001b[49m\u001b[43mwindow_size\u001b[49m\u001b[38;5;241;43m=\u001b[39;49m\u001b[38;5;241;43m50\u001b[39;49m\u001b[43m,\u001b[49m\u001b[43m \u001b[49m\u001b[43moverlap\u001b[49m\u001b[38;5;241;43m=\u001b[39;49m\u001b[38;5;241;43m0.5\u001b[39;49m\u001b[43m)\u001b[49m\n",
      "File \u001b[1;32mc:\\Users\\matte\\AppData\\Local\\Programs\\Python\\Python311\\Lib\\site-packages\\tsfel\\feature_extraction\\calc_features.py:309\u001b[0m, in \u001b[0;36mtime_series_features_extractor\u001b[1;34m(dict_features, signal_windows, fs, verbose, **kwargs)\u001b[0m\n\u001b[0;32m    297\u001b[0m pool \u001b[38;5;241m=\u001b[39m mp\u001b[38;5;241m.\u001b[39mPool(cpu_count)\n\u001b[0;32m    298\u001b[0m features \u001b[38;5;241m=\u001b[39m pool\u001b[38;5;241m.\u001b[39mimap(\n\u001b[0;32m    299\u001b[0m     partial(\n\u001b[0;32m    300\u001b[0m         calc_features,\n\u001b[1;32m   (...)\u001b[0m\n\u001b[0;32m    306\u001b[0m     signal_windows,\n\u001b[0;32m    307\u001b[0m )\n\u001b[1;32m--> 309\u001b[0m \u001b[43m\u001b[49m\u001b[38;5;28;43;01mfor\u001b[39;49;00m\u001b[43m \u001b[49m\u001b[43mi\u001b[49m\u001b[43m,\u001b[49m\u001b[43m \u001b[49m\u001b[43mfeat\u001b[49m\u001b[43m \u001b[49m\u001b[38;5;129;43;01min\u001b[39;49;00m\u001b[43m \u001b[49m\u001b[38;5;28;43menumerate\u001b[39;49m\u001b[43m(\u001b[49m\u001b[43mfeatures\u001b[49m\u001b[43m)\u001b[49m\u001b[43m:\u001b[49m\n\u001b[0;32m    310\u001b[0m \u001b[43m    \u001b[49m\u001b[38;5;28;43;01mif\u001b[39;49;00m\u001b[43m \u001b[49m\u001b[43mverbose\u001b[49m\u001b[43m \u001b[49m\u001b[38;5;241;43m==\u001b[39;49m\u001b[43m \u001b[49m\u001b[38;5;241;43m1\u001b[39;49m\u001b[43m:\u001b[49m\n\u001b[0;32m    311\u001b[0m \u001b[43m        \u001b[49m\u001b[43mdisplay_progress_bar\u001b[49m\u001b[43m(\u001b[49m\u001b[43mi\u001b[49m\u001b[43m,\u001b[49m\u001b[43m \u001b[49m\u001b[38;5;28;43mlen\u001b[39;49m\u001b[43m(\u001b[49m\u001b[43msignal_windows\u001b[49m\u001b[43m)\u001b[49m\u001b[43m,\u001b[49m\u001b[43m \u001b[49m\u001b[43mout\u001b[49m\u001b[43m)\u001b[49m\n",
      "File \u001b[1;32mc:\\Users\\matte\\AppData\\Local\\Programs\\Python\\Python311\\Lib\\multiprocessing\\pool.py:873\u001b[0m, in \u001b[0;36mIMapIterator.next\u001b[1;34m(self, timeout)\u001b[0m\n\u001b[0;32m    871\u001b[0m \u001b[38;5;28;01mif\u001b[39;00m success:\n\u001b[0;32m    872\u001b[0m     \u001b[38;5;28;01mreturn\u001b[39;00m value\n\u001b[1;32m--> 873\u001b[0m \u001b[38;5;28;01mraise\u001b[39;00m value\n",
      "\u001b[1;31mTypeError\u001b[0m: float() argument must be a string or a real number, not 'Timestamp'"
     ]
    }
   ],
   "source": [
    "X_train = data[['date', 'y']]\n",
    "\n",
    "X_train['date'] = pd.to_datetime(X_train['date'])\n",
    "import tsfel\n",
    "\n",
    "cfg = tsfel.get_features_by_domain()\n",
    "\n",
    "X_train = tsfel.time_series_features_extractor(cfg, X_train, fs=1.0, window_size=50, overlap=0.5)\n",
    "\n"
   ]
  },
  {
   "cell_type": "code",
   "execution_count": 17,
   "metadata": {},
   "outputs": [
    {
     "name": "stdout",
     "output_type": "stream",
     "text": [
      "        date   y\n",
      "0 2015-01-01   7\n",
      "1 2015-01-01   0\n",
      "2 2015-01-01   9\n",
      "3 2015-01-01   9\n",
      "4 2015-01-01  28\n",
      "Index 1 out of 439\n"
     ]
    },
    {
     "name": "stderr",
     "output_type": "stream",
     "text": [
      "17:38:57 - cmdstanpy - INFO - Chain [1] start processing\n",
      "17:39:01 - cmdstanpy - INFO - Chain [1] done processing\n"
     ]
    },
    {
     "ename": "ValueError",
     "evalue": "Must have equal len keys and value when setting with an iterable",
     "output_type": "error",
     "traceback": [
      "\u001b[1;31m---------------------------------------------------------------------------\u001b[0m",
      "\u001b[1;31mValueError\u001b[0m                                Traceback (most recent call last)",
      "Cell \u001b[1;32mIn[17], line 17\u001b[0m\n\u001b[0;32m     15\u001b[0m     future \u001b[38;5;241m=\u001b[39m model\u001b[38;5;241m.\u001b[39mmake_future_dataframe(periods\u001b[38;5;241m=\u001b[39m\u001b[38;5;241m365\u001b[39m)\n\u001b[0;32m     16\u001b[0m     forecast \u001b[38;5;241m=\u001b[39m model\u001b[38;5;241m.\u001b[39mpredict(future)\n\u001b[1;32m---> 17\u001b[0m     \u001b[43my_test\u001b[49m\u001b[38;5;241;43m.\u001b[39;49m\u001b[43mloc\u001b[49m\u001b[43m[\u001b[49m\u001b[43my_test\u001b[49m\u001b[43m[\u001b[49m\u001b[38;5;124;43m'\u001b[39;49m\u001b[38;5;124;43mindex\u001b[39;49m\u001b[38;5;124;43m'\u001b[39;49m\u001b[43m]\u001b[49m\u001b[38;5;241;43m.\u001b[39;49m\u001b[43mstr\u001b[49m\u001b[38;5;241;43m.\u001b[39;49m\u001b[43mcontains\u001b[49m\u001b[43m(\u001b[49m\u001b[43mstation\u001b[49m\u001b[43m)\u001b[49m\u001b[43m,\u001b[49m\u001b[43m \u001b[49m\u001b[38;5;124;43m'\u001b[39;49m\u001b[38;5;124;43my\u001b[39;49m\u001b[38;5;124;43m'\u001b[39;49m\u001b[43m]\u001b[49m \u001b[38;5;241m=\u001b[39m forecast[\u001b[38;5;124m'\u001b[39m\u001b[38;5;124myhat\u001b[39m\u001b[38;5;124m'\u001b[39m]\u001b[38;5;241m.\u001b[39mvalues[\u001b[38;5;241m-\u001b[39m\u001b[38;5;241m365\u001b[39m:]\u001b[38;5;241m.\u001b[39mtolist()\n\u001b[0;32m     19\u001b[0m     \u001b[38;5;66;03m# y_test.loc[y_test['index'].str.contains(station), 'y'] = forecast['yhat'].values[-365:]\u001b[39;00m\n\u001b[0;32m     20\u001b[0m \n\u001b[0;32m     21\u001b[0m \u001b[38;5;66;03m# save y_test dataframe to a csv file\u001b[39;00m\n\u001b[0;32m     22\u001b[0m y_test\u001b[38;5;241m.\u001b[39mto_csv(\u001b[38;5;124m'\u001b[39m\u001b[38;5;124my_test_submit_prophet.csv\u001b[39m\u001b[38;5;124m'\u001b[39m, index\u001b[38;5;241m=\u001b[39m\u001b[38;5;28;01mFalse\u001b[39;00m)\n",
      "File \u001b[1;32mc:\\Users\\matte\\AppData\\Local\\Programs\\Python\\Python311\\Lib\\site-packages\\pandas\\core\\indexing.py:818\u001b[0m, in \u001b[0;36m_LocationIndexer.__setitem__\u001b[1;34m(self, key, value)\u001b[0m\n\u001b[0;32m    815\u001b[0m \u001b[38;5;28mself\u001b[39m\u001b[38;5;241m.\u001b[39m_has_valid_setitem_indexer(key)\n\u001b[0;32m    817\u001b[0m iloc \u001b[38;5;241m=\u001b[39m \u001b[38;5;28mself\u001b[39m \u001b[38;5;28;01mif\u001b[39;00m \u001b[38;5;28mself\u001b[39m\u001b[38;5;241m.\u001b[39mname \u001b[38;5;241m==\u001b[39m \u001b[38;5;124m\"\u001b[39m\u001b[38;5;124miloc\u001b[39m\u001b[38;5;124m\"\u001b[39m \u001b[38;5;28;01melse\u001b[39;00m \u001b[38;5;28mself\u001b[39m\u001b[38;5;241m.\u001b[39mobj\u001b[38;5;241m.\u001b[39miloc\n\u001b[1;32m--> 818\u001b[0m \u001b[43miloc\u001b[49m\u001b[38;5;241;43m.\u001b[39;49m\u001b[43m_setitem_with_indexer\u001b[49m\u001b[43m(\u001b[49m\u001b[43mindexer\u001b[49m\u001b[43m,\u001b[49m\u001b[43m \u001b[49m\u001b[43mvalue\u001b[49m\u001b[43m,\u001b[49m\u001b[43m \u001b[49m\u001b[38;5;28;43mself\u001b[39;49m\u001b[38;5;241;43m.\u001b[39;49m\u001b[43mname\u001b[49m\u001b[43m)\u001b[49m\n",
      "File \u001b[1;32mc:\\Users\\matte\\AppData\\Local\\Programs\\Python\\Python311\\Lib\\site-packages\\pandas\\core\\indexing.py:1795\u001b[0m, in \u001b[0;36m_iLocIndexer._setitem_with_indexer\u001b[1;34m(self, indexer, value, name)\u001b[0m\n\u001b[0;32m   1792\u001b[0m \u001b[38;5;66;03m# align and set the values\u001b[39;00m\n\u001b[0;32m   1793\u001b[0m \u001b[38;5;28;01mif\u001b[39;00m take_split_path:\n\u001b[0;32m   1794\u001b[0m     \u001b[38;5;66;03m# We have to operate column-wise\u001b[39;00m\n\u001b[1;32m-> 1795\u001b[0m     \u001b[38;5;28;43mself\u001b[39;49m\u001b[38;5;241;43m.\u001b[39;49m\u001b[43m_setitem_with_indexer_split_path\u001b[49m\u001b[43m(\u001b[49m\u001b[43mindexer\u001b[49m\u001b[43m,\u001b[49m\u001b[43m \u001b[49m\u001b[43mvalue\u001b[49m\u001b[43m,\u001b[49m\u001b[43m \u001b[49m\u001b[43mname\u001b[49m\u001b[43m)\u001b[49m\n\u001b[0;32m   1796\u001b[0m \u001b[38;5;28;01melse\u001b[39;00m:\n\u001b[0;32m   1797\u001b[0m     \u001b[38;5;28mself\u001b[39m\u001b[38;5;241m.\u001b[39m_setitem_single_block(indexer, value, name)\n",
      "File \u001b[1;32mc:\\Users\\matte\\AppData\\Local\\Programs\\Python\\Python311\\Lib\\site-packages\\pandas\\core\\indexing.py:1850\u001b[0m, in \u001b[0;36m_iLocIndexer._setitem_with_indexer_split_path\u001b[1;34m(self, indexer, value, name)\u001b[0m\n\u001b[0;32m   1845\u001b[0m     \u001b[38;5;28;01mif\u001b[39;00m \u001b[38;5;28mlen\u001b[39m(value) \u001b[38;5;241m==\u001b[39m \u001b[38;5;241m1\u001b[39m \u001b[38;5;129;01mand\u001b[39;00m \u001b[38;5;129;01mnot\u001b[39;00m is_integer(info_axis):\n\u001b[0;32m   1846\u001b[0m         \u001b[38;5;66;03m# This is a case like df.iloc[:3, [1]] = [0]\u001b[39;00m\n\u001b[0;32m   1847\u001b[0m         \u001b[38;5;66;03m#  where we treat as df.iloc[:3, 1] = 0\u001b[39;00m\n\u001b[0;32m   1848\u001b[0m         \u001b[38;5;28;01mreturn\u001b[39;00m \u001b[38;5;28mself\u001b[39m\u001b[38;5;241m.\u001b[39m_setitem_with_indexer((pi, info_axis[\u001b[38;5;241m0\u001b[39m]), value[\u001b[38;5;241m0\u001b[39m])\n\u001b[1;32m-> 1850\u001b[0m     \u001b[38;5;28;01mraise\u001b[39;00m \u001b[38;5;167;01mValueError\u001b[39;00m(\n\u001b[0;32m   1851\u001b[0m         \u001b[38;5;124m\"\u001b[39m\u001b[38;5;124mMust have equal len keys and value \u001b[39m\u001b[38;5;124m\"\u001b[39m\n\u001b[0;32m   1852\u001b[0m         \u001b[38;5;124m\"\u001b[39m\u001b[38;5;124mwhen setting with an iterable\u001b[39m\u001b[38;5;124m\"\u001b[39m\n\u001b[0;32m   1853\u001b[0m     )\n\u001b[0;32m   1855\u001b[0m \u001b[38;5;28;01melif\u001b[39;00m lplane_indexer \u001b[38;5;241m==\u001b[39m \u001b[38;5;241m0\u001b[39m \u001b[38;5;129;01mand\u001b[39;00m \u001b[38;5;28mlen\u001b[39m(value) \u001b[38;5;241m==\u001b[39m \u001b[38;5;28mlen\u001b[39m(\u001b[38;5;28mself\u001b[39m\u001b[38;5;241m.\u001b[39mobj\u001b[38;5;241m.\u001b[39mindex):\n\u001b[0;32m   1856\u001b[0m     \u001b[38;5;66;03m# We get here in one case via .loc with a all-False mask\u001b[39;00m\n\u001b[0;32m   1857\u001b[0m     \u001b[38;5;28;01mpass\u001b[39;00m\n",
      "\u001b[1;31mValueError\u001b[0m: Must have equal len keys and value when setting with an iterable"
     ]
    }
   ],
   "source": [
    "X_train = data[['date', 'y']]\n",
    "print(X_train.head())\n",
    "from prophet import Prophet\n",
    "\n",
    "# Create a model for each station\n",
    "idx = 1\n",
    "for station in X_station.unique():\n",
    "    print(f\"Index {idx} out of {len(X_station.unique())}\")\n",
    "    idx += 1\n",
    "    # print(f\"Processing station: {station}\")\n",
    "    X_train_station = X_train[data['station'] == station]\n",
    "    X_train_station = X_train_station.rename(columns={'date': 'ds', 'y': 'y'})\n",
    "    model = Prophet()\n",
    "    model.fit(X_train_station)\n",
    "    future = model.make_future_dataframe(periods=365)\n",
    "    forecast = model.predict(future)\n",
    "    y_test.loc[y_test['index'].str.contains(station), 'y'] = forecast['yhat'].values[-365:].tolist()\n",
    "\n",
    "    # y_test.loc[y_test['index'].str.contains(station), 'y'] = forecast['yhat'].values[-365:]\n",
    "\n",
    "# save y_test dataframe to a csv file\n",
    "y_test.to_csv('y_test_submit_prophet.csv', index=False)"
   ]
  },
  {
   "cell_type": "code",
   "execution_count": null,
   "metadata": {},
   "outputs": [],
   "source": [
    "for i, name_station in enumerate(y_array):\n",
    "    X_train_station = X_train[data['station'] == name_station]\n",
    "    y_train_station = y_train[data['station'] == name_station]\n",
    "    X_test_station = X_test[x_test['station'] == name_station]\n",
    "    model = RandomForestRegressor(n_estimators=40, random_state=42)\n",
    "    model.fit(X_train_station, y_train_station)\n",
    "    y_pred = model.predict(X_test_station)\n",
    "\n",
    "    y_test.loc[y_test['index'].str.contains(name_station), 'y'] = y_pred\n",
    "\n",
    "# save y_test dataframe to a csv file\n",
    "y_test.to_csv('y_test_submit_each_station_RF.csv', index=False)"
   ]
  },
  {
   "cell_type": "code",
   "execution_count": 67,
   "metadata": {},
   "outputs": [],
   "source": [
    "import xgboost as xgb  # For XGBoost\n",
    "for i, name_station in enumerate(y_array):\n",
    "    X_train_station = X_train[data['station'] == name_station]\n",
    "    y_train_station = y_train[data['station'] == name_station]\n",
    "    X_test_station = X_test[x_test['station'] == name_station]\n",
    "    # model = RandomForestRegressor(n_estimators=200, random_state=42)\n",
    "    model = xgb.XGBRegressor(n_estimators=40, learning_rate=0.1, random_state=42)\n",
    "    model.fit(X_train_station, y_train_station)\n",
    "    y_pred = model.predict(X_test_station)\n",
    "\n",
    "    y_test.loc[y_test['index'].str.contains(name_station), 'y'] = y_pred\n",
    "\n",
    "# save y_test dataframe to a csv file\n",
    "y_test.to_csv('y_test_submit_each_station_XG.csv', index=False)"
   ]
  },
  {
   "cell_type": "code",
   "execution_count": 70,
   "metadata": {},
   "outputs": [],
   "source": [
    "from sklearn.svm import SVR\n",
    "for i, name_station in enumerate(y_array):\n",
    "    X_train_station = X_train[data['station'] == name_station]\n",
    "    y_train_station = y_train[data['station'] == name_station]\n",
    "    X_test_station = X_test[x_test['station'] == name_station]\n",
    "    \n",
    "    model = SVR(kernel='rbf', C=100, gamma=0.1, epsilon=.1)\n",
    "    model.fit(X_train_station, y_train_station)\n",
    "    y_pred = model.predict(X_test_station)\n",
    "\n",
    "    y_test.loc[y_test['index'].str.contains(name_station), 'y'] = y_pred\n",
    "    \n",
    "# save y_test dataframe to a csv file\n",
    "y_test.to_csv('y_test_submit_each_station_SVR.csv', index=False)\n",
    "    \n",
    "\n"
   ]
  },
  {
   "cell_type": "code",
   "execution_count": null,
   "metadata": {},
   "outputs": [],
   "source": [
    "from sklearn.ensemble import BaggingRegressor\n",
    "from sklearn.ensemble import RandomForestRegressor\n",
    "\n",
    "for i, name_station in enumerate(y_array):\n",
    "    X_train_station = X_train[data['station'] == name_station]\n",
    "    y_train_station = y_train[data['station'] == name_station]\n",
    "    X_test_station = X_test[x_test['station'] == name_station]\n",
    "    \n",
    "    base_model = RandomForestRegressor(n_estimators=50, random_state=42)\n",
    "    model = BaggingRegressor(base_model, n_estimators=10, random_state=42)\n",
    "    model.fit(X_train_station, y_train_station)\n",
    "    y_pred = model.predict(X_test_station)\n",
    "\n",
    "    y_test.loc[y_test['index'].str.contains(name_station), 'y'] = y_pred\n",
    "    y_test.to_csv('y_test_submit_Bagging_RF.csv', index=False)\n",
    "    \n",
    "    # save y_test dataframe to a csv file\n",
    "    y_test.to_csv('y_test_submit_each_station_Bagging_RF.csv', index=False)\n",
    "    break\n"
   ]
  },
  {
   "cell_type": "code",
   "execution_count": 74,
   "metadata": {},
   "outputs": [],
   "source": [
    "import pandas as pd\n",
    "# Define the file paths and output file name\n",
    "output_file = 'y_test_merged_RG_XG_SVR.csv'\n",
    "csv_files = ['y_test_submit_each_station_RF.csv', 'y_test_submit_each_station_XG.csv', 'y_test_submit_each_station_SVR.csv']\n",
    "\n",
    "# Define a function to calculate the mean\n",
    "def calculate_mean(csv_files, output_file):\n",
    "    dfs = []\n",
    "    for file in csv_files:\n",
    "        df = pd.read_csv(file)\n",
    "        dfs.append(df)\n",
    "\n",
    "    merged_df = pd.concat(dfs)\n",
    "    mean_df = merged_df.groupby('index')['y'].mean().reset_index()\n",
    "\n",
    "    mean_df.to_csv(output_file, index=False)\n",
    "\n",
    "# Call the function\n",
    "calculate_mean(csv_files, output_file)\n"
   ]
  },
  {
   "cell_type": "code",
   "execution_count": 75,
   "metadata": {},
   "outputs": [],
   "source": [
    "import pandas as pd\n",
    "\n",
    "# Load the three CSV files\n",
    "df1 = pd.read_csv('y_test_submit_each_station_RF.csv')\n",
    "df2 = pd.read_csv('y_test_submit_each_station_XG.csv')\n",
    "df3 = pd.read_csv('y_test_submit_each_station_SVR.csv')\n",
    "\n",
    "# Assuming 'index' is the name of your index column and it's the same across all three DataFrames\n",
    "# Set 'index' as the index of each DataFrame\n",
    "df1.set_index('index', inplace=True)\n",
    "df2.set_index('index', inplace=True)\n",
    "df3.set_index('index', inplace=True)\n",
    "\n",
    "# Calculate the mean of the 'y' values across the three DataFrames\n",
    "mean_y = (df1['y'] + df2['y'] + df3['y']) / 3\n",
    "\n",
    "# Create a new DataFrame with the mean values\n",
    "mean_df = pd.DataFrame(mean_y, columns=['y'])\n",
    "\n",
    "# Reset the index if you want 'index' as a column in the CSV\n",
    "mean_df.reset_index(inplace=True)\n",
    "\n",
    "# Save the new DataFrame to a CSV file\n",
    "mean_df.to_csv('mean_y_values.csv', index=False)\n"
   ]
  },
  {
   "cell_type": "markdown",
   "metadata": {},
   "source": [
    "----\n",
    "----\n",
    "# <b> Now let's do Deep Learning ! </b> "
   ]
  },
  {
   "cell_type": "code",
   "execution_count": 49,
   "metadata": {},
   "outputs": [
    {
     "name": "stdout",
     "output_type": "stream",
     "text": [
      "            index  y\n",
      "0  2023-01-01_1J7  0\n",
      "1  2023-01-01_O2O  0\n",
      "2  2023-01-01_8QR  0\n",
      "3  2023-01-01_L58  0\n",
      "4  2023-01-01_UMC  0\n"
     ]
    }
   ],
   "source": [
    "# Create an empty y_test dataframe\n",
    "y_test = pd.DataFrame()\n",
    "# Convert 'date' column to string type\n",
    "x_test['date'] = x_test['date'].astype(str)\n",
    "# First column name is 'index'\n",
    "y_test['index'] = x_test['date'].str.cat(x_test['station'], sep='_')\n",
    "# Second column name is 'y'\n",
    "y_test['y'] = 0\n",
    "\n",
    "print(y_test.head())"
   ]
  },
  {
   "cell_type": "code",
   "execution_count": 50,
   "metadata": {},
   "outputs": [
    {
     "name": "stdout",
     "output_type": "stream",
     "text": [
      "2898\n"
     ]
    },
    {
     "name": "stderr",
     "output_type": "stream",
     "text": [
      "c:\\Users\\matte\\AppData\\Local\\Programs\\Python\\Python311\\Lib\\site-packages\\torch\\nn\\modules\\loss.py:535: UserWarning: Using a target size (torch.Size([2898])) that is different to the input size (torch.Size([2898, 1])). This will likely lead to incorrect results due to broadcasting. Please ensure they have the same size.\n",
      "  return F.mse_loss(input, target, reduction=self.reduction)\n"
     ]
    }
   ],
   "source": [
    "import torch\n",
    "import torch.nn as nn\n",
    "import torch.optim as optim\n",
    "\n",
    "# Define the neural network architecture\n",
    "class TimeSeriesRegression(nn.Module):\n",
    "    def __init__(self, input_size, hidden_size, num_layers):\n",
    "        super(TimeSeriesRegression, self).__init__()\n",
    "        self.lstm = nn.LSTM(input_size, hidden_size, num_layers, batch_first=True)\n",
    "        self.fc = nn.Linear(hidden_size, 1)\n",
    "\n",
    "    def forward(self, x):\n",
    "        output, _ = self.lstm(x)\n",
    "        output = self.fc(output)\n",
    "\n",
    "# Define the neural network architecture\n",
    "class ComplexTimeSeriesRegression(nn.Module):\n",
    "    def __init__(self, input_size, hidden_size, num_layers):\n",
    "        super(ComplexTimeSeriesRegression, self).__init__()\n",
    "        self.lstm1 = nn.LSTM(input_size, hidden_size, num_layers, batch_first=True)\n",
    "        self.lstm2 = nn.LSTM(hidden_size, hidden_size, num_layers, batch_first=True)\n",
    "        self.fc1 = nn.Linear(hidden_size, hidden_size)\n",
    "        self.fc2 = nn.Linear(hidden_size, 1)\n",
    "\n",
    "    def forward(self, x):\n",
    "        output, _ = self.lstm1(x)\n",
    "        output, _ = self.lstm2(output)\n",
    "        output = self.fc1(output)\n",
    "        output = self.fc2(output)\n",
    "        return output\n",
    "\n",
    "# Define the loss function and optimizer\n",
    "criterion = nn.MSELoss()\n",
    "learning_rate = 0.001\n",
    "num_epochs = 100\n",
    "\n",
    "# Convert the data to PyTorch tensors\n",
    "X_train_tensor = torch.tensor(X_train.values, dtype=torch.float32)\n",
    "y_train_tensor = torch.tensor(y_train.values, dtype=torch.float32)\n",
    "X_test_tensor = torch.tensor(X_test.values, dtype=torch.float32)\n",
    "\n",
    "# Create an instance of the model\n",
    "input_size = X_train_tensor.shape[1]\n",
    "hidden_size = 64\n",
    "num_layers = 2\n",
    "\n",
    "\n",
    "# Train the model for each station\n",
    "for name_station in y_array:\n",
    "    X_train_station = X_train[data['station'] == name_station]\n",
    "    y_train_station = y_train[data['station'] == name_station]\n",
    "    X_test_station = X_test[x_test['station'] == name_station]\n",
    "\n",
    "    # Convert the data to PyTorch tensors\n",
    "    X_train_tensor_station = torch.tensor(X_train_station.values, dtype=torch.float32)\n",
    "    y_train_tensor_station = torch.tensor(y_train_station.values, dtype=torch.float32)\n",
    "    X_test_tensor_station = torch.tensor(X_test_station.values, dtype=torch.float32)\n",
    "\n",
    "    input_size = X_train_tensor_station.shape[0]\n",
    "    print(input_size)\n",
    "    model = ComplexTimeSeriesRegression(input_size, hidden_size, num_layers)\n",
    "    optimizer = optim.Adam(model.parameters(), lr=learning_rate)\n",
    "\n",
    "    # Train the model\n",
    "    for epoch in range(num_epochs):\n",
    "        optimizer.zero_grad()\n",
    "        outputs = model(X_train_tensor_station)\n",
    "        loss = criterion(outputs, y_train_tensor_station)\n",
    "        loss.backward()\n",
    "        optimizer.step()\n",
    "\n",
    "    # Evaluate the model\n",
    "    with torch.no_grad():\n",
    "        outputs = model(X_test_tensor_station)\n",
    "        predictions = outputs.numpy().flatten()\n",
    "\n",
    "    # Update the y_test dataframe with the predictions\n",
    "    y_test.loc[y_test['index'].str.contains(name_station), 'y'] = predictions\n",
    "    # Save y_test dataframe to a csv file\n",
    "    y_test.to_csv('y_deep.csv', index=False)\n",
    "    break\n",
    "\n",
    "# Save y_test dataframe to a csv file\n",
    "# y_test.to_csv('y_test_submit_each_station.csv', index=False)"
   ]
  },
  {
   "cell_type": "code",
   "execution_count": 26,
   "metadata": {},
   "outputs": [],
   "source": [
    "import pandas as pd\n",
    "\n",
    "# Load the two CSV files\n",
    "df1 = pd.read_csv('y_deep_deep.csv')\n",
    "df2 = pd.read_csv('y_deep_DL.csv')\n",
    "\n",
    "# Calculate the mean of the 'y' values across the two DataFrames\n",
    "mean_y = (df1['y'] + df2['y']) / 2\n",
    "\n",
    "# Create a new DataFrame with the mean values\n",
    "mean_df = pd.DataFrame({'index': df1['index'], 'y': mean_y})\n",
    "\n",
    "# Save the new DataFrame to a CSV file\n",
    "mean_df.to_csv('mean_y_values.csv', index=False)\n",
    "\n"
   ]
  }
 ],
 "metadata": {
  "kernelspec": {
   "display_name": "Python 3",
   "language": "python",
   "name": "python3"
  },
  "language_info": {
   "codemirror_mode": {
    "name": "ipython",
    "version": 3
   },
   "file_extension": ".py",
   "mimetype": "text/x-python",
   "name": "python",
   "nbconvert_exporter": "python",
   "pygments_lexer": "ipython3",
   "version": "3.10.12"
  }
 },
 "nbformat": 4,
 "nbformat_minor": 2
}
